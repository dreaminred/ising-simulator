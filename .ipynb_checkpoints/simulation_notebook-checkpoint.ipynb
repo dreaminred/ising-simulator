{
 "cells": [
  {
   "cell_type": "code",
   "execution_count": 26,
   "id": "51351559",
   "metadata": {},
   "outputs": [],
   "source": [
    "import numpy as np\n",
    "import matplotlib.pyplot as plt"
   ]
  },
  {
   "cell_type": "markdown",
   "id": "0f3cb9fb",
   "metadata": {},
   "source": [
    "# Pre-simulation Details"
   ]
  },
  {
   "cell_type": "markdown",
   "id": "c77af2a4",
   "metadata": {},
   "source": [
    "Calculate the change in energy, $\\Delta E$, when you flip one spin.\n",
    "\n",
    "According to the the Ising Model, the energy of a given site on the square lattice is the sum of the 4 nearest neighbours.\n",
    "\n",
    "The energy configuration at site $i,j$ is \n",
    "$$ E_{i,j} =  -S_{i,j}S_{i+1,j} -S_{i,j}S_{i-1,j} -S_{i,j}S_{i,j+1} -S_{i,j}S_{i,j-1}$$\n",
    "\n",
    "Flipping a particular site changes the energy configuration to\n",
    "$$E_{i,j} =  S_{i,j}S_{i+1,j} + S_{i,j}S_{i-1,j} + S_{i,j}S_{i,j+1} + S_{i,j}S_{i,j-1}$$\n",
    "\n",
    "Thus the change in energy, $\\Delta E = E(-s) - E(+s)$ is \n",
    "\n",
    "$$\\Delta E_{i,j} = 2(S_{i,j}S_{i+1,j} + S_{i,j}S_{i-1,j} + S_{i,j}S_{i,j+1} + S_{i,j}S_{i,j-1})$$"
   ]
  },
  {
   "cell_type": "markdown",
   "id": "e3dd714f",
   "metadata": {},
   "source": [
    "# Metropolis Algorithm"
   ]
  },
  {
   "cell_type": "markdown",
   "id": "4f8cb78a",
   "metadata": {},
   "source": [
    "1. Start with some initial state configuration, 𝑥 that has energy 𝐸(𝑥).\n",
    "2. Make a move that changes the configuration to 𝑥’ that has energy 𝐸(𝑥’)\n",
    "3. The probability that the move is accepted obeys\n",
    "𝑃 = 1, Δ𝐸 = 𝐸(𝑥′\n",
    ") − 𝐸(𝑥) ≤ 0\n",
    "𝑃 = 𝑒−𝛽Δ𝐸, Δ𝐸 = 𝐸(𝑥′\n",
    ") − 𝐸(𝑥) > 0\n",
    "4. If the move is rejected, set the state back to 𝑥. Otherwise the new state is 𝑥’.\n",
    "5. Go back to 2 and keep iterating until equilibrium is achieved and you sample enough states for\n",
    "computing the desired averages."
   ]
  },
  {
   "cell_type": "markdown",
   "id": "68ab1ded",
   "metadata": {},
   "source": [
    "## Step 1: Initialization"
   ]
  },
  {
   "cell_type": "code",
   "execution_count": 27,
   "id": "e605d8f4",
   "metadata": {},
   "outputs": [],
   "source": [
    "latticeLength = 20\n",
    "lattice = np.random.choice([-1,1], size=[latticeLength, latticeLength])"
   ]
  },
  {
   "cell_type": "code",
   "execution_count": 28,
   "id": "9f0c5fd8",
   "metadata": {},
   "outputs": [
    {
     "data": {
      "text/plain": [
       "<matplotlib.image.AxesImage at 0x1d269ade640>"
      ]
     },
     "execution_count": 28,
     "metadata": {},
     "output_type": "execute_result"
    },
    {
     "data": {
      "image/png": "[encoded data removed]",
      "text/plain": [
       "<Figure size 504x504 with 1 Axes>"
      ]
     },
     "metadata": {
      "needs_background": "light"
     },
     "output_type": "display_data"
    }
   ],
   "source": [
    "plt.figure(figsize=(7,7))\n",
    "plt.imshow(lattice)"
   ]
  },
  {
   "cell_type": "markdown",
   "id": "f8497cc6",
   "metadata": {},
   "source": [
    "### Observables of Lattice Configuration"
   ]
  },
  {
   "cell_type": "code",
   "execution_count": 29,
   "id": "4f72f3d5",
   "metadata": {},
   "outputs": [],
   "source": [
    "def leftNeighbour(i,j):\n",
    "    return i, j-1"
   ]
  },
  {
   "cell_type": "code",
   "execution_count": 30,
   "id": "0fd0177e",
   "metadata": {},
   "outputs": [],
   "source": [
    "def rightNeighbour(i,j):\n",
    "    return i, (j + 1) % latticeLength"
   ]
  },
  {
   "cell_type": "code",
   "execution_count": 31,
   "id": "25738bf0",
   "metadata": {},
   "outputs": [],
   "source": [
    "def topNeighbour(i,j):\n",
    "    return i -1, j"
   ]
  },
  {
   "cell_type": "code",
   "execution_count": 32,
   "id": "2ad424ff",
   "metadata": {},
   "outputs": [],
   "source": [
    "def bottomNeighbour(i,j):\n",
    "    return (i + 1) % latticeLength, j"
   ]
  },
  {
   "cell_type": "markdown",
   "id": "c96e9195",
   "metadata": {},
   "source": [
    "In the Ising Model, only the nearest neighbour spins interact, therefore the total energy of the spin lattice is:"
   ]
  },
  {
   "cell_type": "markdown",
   "id": "6da12bd5",
   "metadata": {},
   "source": [
    "$$E\\,=\\, -\\frac{J}{2}\\sum_{i}\\sum_{j \\epsilon n.n.}S_iS_j$$"
   ]
  },
  {
   "cell_type": "code",
   "execution_count": 33,
   "id": "6f834deb",
   "metadata": {},
   "outputs": [],
   "source": [
    "def totalEnergy(lattice):\n",
    "    \n",
    "    latticeLength = np.shape(lattice)[0]\n",
    "    \n",
    "    latticeEnergy = 0.0\n",
    "    \n",
    "    for i in np.arange(latticeLength):\n",
    "        for j in np.arange(latticeLength):\n",
    "                   \n",
    "            \n",
    "            energy = -1.0 * (lattice[leftNeighbour(i,j)] + lattice[rightNeighbour(i,j)] \n",
    "                             + lattice[topNeighbour(i,j)] + lattice[bottomNeighbour(i,j)])\n",
    "            \n",
    "            latticeEnergy += energy\n",
    "            \n",
    "    print(latticeEnergy)\n",
    "        "
   ]
  },
  {
   "cell_type": "markdown",
   "id": "94dbcfac",
   "metadata": {},
   "source": [
    "Net magnetization:\n",
    "\n",
    "$$ M(\\alpha) = \\sum_{i} S_i$$\n",
    "\n",
    "where $\\alpha$ denotes the state of a micro-ensemble."
   ]
  },
  {
   "cell_type": "code",
   "execution_count": 34,
   "id": "803af32d",
   "metadata": {},
   "outputs": [],
   "source": [
    "def netMagnetization(lattice):\n",
    "    \n",
    "    return lattice.sum()"
   ]
  },
  {
   "cell_type": "markdown",
   "id": "17969a32",
   "metadata": {},
   "source": [
    "The 2D Ising model has a 2nd order phase transition for $J$ > 0 where the critical temperature is:\n",
    "\n",
    "$$T_c \\approx 2.27 \\frac{J}{k_B}$$"
   ]
  },
  {
   "cell_type": "markdown",
   "id": "155b3d41",
   "metadata": {},
   "source": [
    "## Step 2: Metropolis Sweeps"
   ]
  },
  {
   "cell_type": "code",
   "execution_count": 35,
   "id": "2db306cd",
   "metadata": {},
   "outputs": [],
   "source": [
    "#Define Constants\n",
    "SPIN_UP = 1.0 #positive polarization at a site\n",
    "SPIN_DOWN = -1.0 #negative polarization at a site"
   ]
  },
  {
   "cell_type": "code",
   "execution_count": 56,
   "id": "b359d74f",
   "metadata": {},
   "outputs": [],
   "source": [
    "#Define parameters for this run\n",
    "latticeSize = 50 #side length of the lattice\n",
    "latticeLength = 50\n",
    "temp = 2.5 #J/kb, temperature at which to simulate\n",
    "numEquil = 600 #number of equilibration sweeps to do before starting to sample\n",
    "sampleInterval = 70 #period with which to sample to reduce correlation b/w samples\n",
    "\n",
    "#Set up Metropolis-Hastings algorithm\n",
    "numSweeps = numEquil + sampleInterval*3000 #number of sweeps in simulation, samples every 50\n",
    "numSites = latticeSize**2 #number of sites in the lattice\n",
    "latticeElems = np.random.choice([SPIN_DOWN, SPIN_UP], size = (latticeSize, latticeSize)) #LATTICE_SIZE x LATTICE_SIZE lattice, each element is either -1 or 1 (randomly)\n",
    "#imshow(latticeElems)\n",
    "\n",
    "magList = [] #records magnetizations, M = |sum_ij sij|, for each sweep\n",
    "magSqrList = [] #records the square of the magnetizations, M^2 = (sum_ij sij)^2\n",
    "\n",
    "for sweep in range(numSweeps):\n",
    "    for i in range(numSites): #sweep over all sites\n",
    "        \n",
    "        #pick a random site\n",
    "        randRow = int(np.random.random() * latticeSize) #select random row\n",
    "        randCol = int(np.random.random() * latticeSize) #select random column\n",
    "        \n",
    "        #calculate change in energy\n",
    "        deltaE = 2.0 * latticeElems[randRow, randCol] * (latticeElems[leftNeighbour(randRow, randCol)] + latticeElems[rightNeighbour(randRow, randCol)] + latticeElems[topNeighbour(randRow, randCol)] + latticeElems[bottomNeighbour(randRow, randCol)])\n",
    "        \n",
    "        if deltaE <= 0.0: #energetically favourable, decrease in energy\n",
    "            latticeElems[randRow, randCol] *= -1.0 #flip the element\n",
    "        else:\n",
    "            randNum = np.random.random()\n",
    "            if randNum <= np.exp(-deltaE/temp): #still has a chance to flip even if energetically unfavourable\n",
    "                latticeElems[randRow, randCol] *= -1.0 #flip the element\n",
    "                \n",
    "    #output periodic samples and compute statistics\n",
    "    if sweep > numEquil: #wait until after equilibration\n",
    "        if sweep % sampleInterval == 0: #only take multiples of \n",
    "            \n",
    "            #calculate statistics\n",
    "            mag = sum(latticeElems) #compute magnetization for sweep\n",
    "            magList.append(abs(mag)) #record magnetization\n",
    "            magSqrList.append(mag**2) #compute and record magnetization squared for sweep"
   ]
  },
  {
   "cell_type": "code",
   "execution_count": 57,
   "id": "128b0d30",
   "metadata": {},
   "outputs": [
    {
     "data": {
      "text/plain": [
       "<matplotlib.image.AxesImage at 0x1d269646d30>"
      ]
     },
     "execution_count": 57,
     "metadata": {},
     "output_type": "execute_result"
    },
    {
     "data": {
      "image/png": "[encoded data removed]",
      "text/plain": [
       "<Figure size 432x288 with 1 Axes>"
      ]
     },
     "metadata": {
      "needs_background": "light"
     },
     "output_type": "display_data"
    }
   ],
   "source": [
    "plt.imshow(latticeElems)"
   ]
  },
  {
   "cell_type": "code",
   "execution_count": null,
   "id": "289e98b9",
   "metadata": {},
   "outputs": [],
   "source": []
  }
 ],
 "metadata": {
  "kernelspec": {
   "display_name": "Python 3 (ipykernel)",
   "language": "python",
   "name": "python3"
  },
  "language_info": {
   "codemirror_mode": {
    "name": "ipython",
    "version": 3
   },
   "file_extension": ".py",
   "mimetype": "text/x-python",
   "name": "python",
   "nbconvert_exporter": "python",
   "pygments_lexer": "ipython3",
   "version": "3.9.12"
  },
  "toc": {
   "base_numbering": 1,
   "nav_menu": {},
   "number_sections": true,
   "sideBar": true,
   "skip_h1_title": false,
   "title_cell": "Table of Contents",
   "title_sidebar": "Contents",
   "toc_cell": false,
   "toc_position": {},
   "toc_section_display": true,
   "toc_window_display": false
  },
  "varInspector": {
   "cols": {
    "lenName": 16,
    "lenType": 16,
    "lenVar": 40
   },
   "kernels_config": {
    "python": {
     "delete_cmd_postfix": "",
     "delete_cmd_prefix": "del ",
     "library": "var_list.py",
     "varRefreshCmd": "print(var_dic_list())"
    },
    "r": {
     "delete_cmd_postfix": ") ",
     "delete_cmd_prefix": "rm(",
     "library": "var_list.r",
     "varRefreshCmd": "cat(var_dic_list()) "
    }
   },
   "types_to_exclude": [
    "module",
    "function",
    "builtin_function_or_method",
    "instance",
    "_Feature"
   ],
   "window_display": false
  }
 },
 "nbformat": 4,
 "nbformat_minor": 5
}
