{
 "cells": [
  {
   "cell_type": "code",
   "execution_count": 7,
   "id": "ec4ee2c6",
   "metadata": {},
   "outputs": [],
   "source": [
    "import numpy as np\n",
    "import matplotlib.pyplot as plt"
   ]
  },
  {
   "cell_type": "code",
   "execution_count": null,
   "id": "b2587e2a",
   "metadata": {},
   "outputs": [],
   "source": [
    "We will use a"
   ]
  },
  {
   "cell_type": "markdown",
   "id": "81488ad5",
   "metadata": {},
   "source": [
    "# Pre-simulation Details"
   ]
  },
  {
   "cell_type": "markdown",
   "id": "dd861534",
   "metadata": {},
   "source": [
    "Calculate the change in energy, $\\Delta E$, when you flip one spin.\n",
    "\n",
    "According to the the Ising Model, the energy of a given site on the square lattice is the sum of the 4 nearest neighbours.\n",
    "\n",
    "The energy configuration at site $i,j$ is \n",
    "$$ E_{i,j} =  -S_{i,j}S_{i+1,j} -S_{i,j}S_{i-1,j} -S_{i,j}S_{i,j+1} -S_{i,j}S_{i,j-1}$$\n",
    "\n",
    "Flipping a particular site changes the energy configuration to\n",
    "$$E_{i,j} =  S_{i,j}S_{i+1,j} + S_{i,j}S_{i-1,j} + S_{i,j}S_{i,j+1} + S_{i,j}S_{i,j-1}$$\n",
    "\n",
    "Thus the change in energy, $\\Delta E = E(-s) - E(+s)$ is \n",
    "\n",
    "$$\\Delta E_{i,j} = 2(S_{i,j}S_{i+1,j} + S_{i,j}S_{i-1,j} + S_{i,j}S_{i,j+1} + S_{i,j}S_{i,j-1})$$"
   ]
  },
  {
   "cell_type": "markdown",
   "id": "b12ba0b8",
   "metadata": {},
   "source": [
    "# Metropolis Algorithm"
   ]
  },
  {
   "cell_type": "markdown",
   "id": "048cd4f8",
   "metadata": {},
   "source": [
    "1. Start with some initial state configuration, 𝑥 that has energy 𝐸(𝑥).\n",
    "2. Make a move that changes the configuration to 𝑥’ that has energy 𝐸(𝑥’)\n",
    "3. The probability that the move is accepted obeys\n",
    "𝑃 = 1, Δ𝐸 = 𝐸(𝑥′\n",
    ") − 𝐸(𝑥) ≤ 0\n",
    "𝑃 = 𝑒−𝛽Δ𝐸, Δ𝐸 = 𝐸(𝑥′\n",
    ") − 𝐸(𝑥) > 0\n",
    "4. If the move is rejected, set the state back to 𝑥. Otherwise the new state is 𝑥’.\n",
    "5. Go back to 2 and keep iterating until equilibrium is achieved and you sample enough states for\n",
    "computing the desired averages."
   ]
  },
  {
   "cell_type": "markdown",
   "id": "4cd6a34d",
   "metadata": {},
   "source": [
    "## Step 1: Initialization"
   ]
  },
  {
   "cell_type": "code",
   "execution_count": 4,
   "id": "e9568d97",
   "metadata": {},
   "outputs": [],
   "source": [
    "latticeLength = 100\n",
    "lattice = np.random.choice([-1,1], size=[latticeLength, latticeLength])"
   ]
  },
  {
   "cell_type": "code",
   "execution_count": 12,
   "id": "fb0a39e6",
   "metadata": {},
   "outputs": [
    {
     "data": {
      "text/plain": [
       "<matplotlib.image.AxesImage at 0x1e7ee484370>"
      ]
     },
     "execution_count": 12,
     "metadata": {},
     "output_type": "execute_result"
    },
    {
     "data": {
      "image/png": "[encoded data removed]",
      "text/plain": [
       "<Figure size 504x504 with 1 Axes>"
      ]
     },
     "metadata": {
      "needs_background": "light"
     },
     "output_type": "display_data"
    }
   ],
   "source": [
    "plt.figure(figsize=(7,7))\n",
    "plt.imshow(lattice)"
   ]
  },
  {
   "cell_type": "markdown",
   "id": "a5ce14b4",
   "metadata": {},
   "source": [
    "### Observables of Lattice Configuration"
   ]
  },
  {
   "cell_type": "code",
   "execution_count": 31,
   "id": "95358c18",
   "metadata": {},
   "outputs": [],
   "source": [
    "def leftNeighbour(i,j):\n",
    "    return i, j-1"
   ]
  },
  {
   "cell_type": "code",
   "execution_count": 32,
   "id": "e23bd1ef",
   "metadata": {},
   "outputs": [],
   "source": [
    "def rightNeighbour(i,j):\n",
    "    return i, (j + 1) % latticeLength"
   ]
  },
  {
   "cell_type": "code",
   "execution_count": 33,
   "id": "e9f8f445",
   "metadata": {},
   "outputs": [],
   "source": [
    "def topNeighbour(i,j):\n",
    "    return i -1, j"
   ]
  },
  {
   "cell_type": "code",
   "execution_count": 34,
   "id": "82bd7419",
   "metadata": {},
   "outputs": [],
   "source": [
    "def bottomNeighbour(i,j):\n",
    "    return (i + 1) % latticeLength, j"
   ]
  },
  {
   "cell_type": "code",
   "execution_count": 41,
   "id": "d09803c3",
   "metadata": {},
   "outputs": [],
   "source": [
    "def totalEnergy(lattice):\n",
    "    \n",
    "    latticeLength = np.shape(lattice)[0]\n",
    "    \n",
    "    latticeEnergy = 0.0\n",
    "    \n",
    "    for i in np.arange(latticeLength):\n",
    "        for j in np.arange(latticeLength):\n",
    "            \n",
    "            left = leftNeighbour(i,j)\n",
    "            right = rightNeighbour(i,j)\n",
    "            top = topNeighbour(i,j)\n",
    "            bottom = bottomNeighbour(i,j)\n",
    "            \n",
    "            \n",
    "            energy = -1.0 * (lattice[leftNeighbour(i,j)] + lattice[rightNeighbour(i,j)] \n",
    "                             + lattice[topNeighbour(i,j)] + lattice[bottomNeighbour(i,j)])\n",
    "            \n",
    "            latticeEnergy += energy\n",
    "            \n",
    "    print(latticeEnergy)\n",
    "        "
   ]
  },
  {
   "cell_type": "code",
   "execution_count": null,
   "id": "773065c2",
   "metadata": {},
   "outputs": [],
   "source": []
  },
  {
   "cell_type": "markdown",
   "id": "528d60a7",
   "metadata": {},
   "source": [
    "## Step 2: Metropolis Sweeps"
   ]
  },
  {
   "cell_type": "code",
   "execution_count": 30,
   "id": "b613202f",
   "metadata": {},
   "outputs": [
    {
     "data": {
      "text/plain": [
       "1"
      ]
     },
     "execution_count": 30,
     "metadata": {},
     "output_type": "execute_result"
    }
   ],
   "source": [
    "lattice[0,2]"
   ]
  },
  {
   "cell_type": "code",
   "execution_count": null,
   "id": "d5b6948c",
   "metadata": {},
   "outputs": [],
   "source": []
  }
 ],
 "metadata": {
  "kernelspec": {
   "display_name": "Python 3 (ipykernel)",
   "language": "python",
   "name": "python3"
  },
  "language_info": {
   "codemirror_mode": {
    "name": "ipython",
    "version": 3
   },
   "file_extension": ".py",
   "mimetype": "text/x-python",
   "name": "python",
   "nbconvert_exporter": "python",
   "pygments_lexer": "ipython3",
   "version": "3.9.12"
  },
  "toc": {
   "base_numbering": 1,
   "nav_menu": {},
   "number_sections": true,
   "sideBar": true,
   "skip_h1_title": false,
   "title_cell": "Table of Contents",
   "title_sidebar": "Contents",
   "toc_cell": false,
   "toc_position": {},
   "toc_section_display": true,
   "toc_window_display": false
  },
  "varInspector": {
   "cols": {
    "lenName": 16,
    "lenType": 16,
    "lenVar": 40
   },
   "kernels_config": {
    "python": {
     "delete_cmd_postfix": "",
     "delete_cmd_prefix": "del ",
     "library": "var_list.py",
     "varRefreshCmd": "print(var_dic_list())"
    },
    "r": {
     "delete_cmd_postfix": ") ",
     "delete_cmd_prefix": "rm(",
     "library": "var_list.r",
     "varRefreshCmd": "cat(var_dic_list()) "
    }
   },
   "types_to_exclude": [
    "module",
    "function",
    "builtin_function_or_method",
    "instance",
    "_Feature"
   ],
   "window_display": false
  }
 },
 "nbformat": 4,
 "nbformat_minor": 5
}
